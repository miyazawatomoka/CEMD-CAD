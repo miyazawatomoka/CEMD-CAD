{
 "cells": [
  {
   "cell_type": "code",
   "execution_count": 1,
   "metadata": {},
   "outputs": [],
   "source": [
    "import pandas as pd\n",
    "import numpy as np\n",
    "import re"
   ]
  },
  {
   "cell_type": "code",
   "execution_count": 3,
   "metadata": {},
   "outputs": [],
   "source": [
    "df = pd.read_csv('../data/zwdzbl.csv')\n",
    "df = df[['主诉', '家族史', '现病史', '生命体征', '入院初诊']]"
   ]
  },
  {
   "cell_type": "code",
   "execution_count": 4,
   "metadata": {},
   "outputs": [],
   "source": [
    "unmeaning_word_list = ['规则']\n",
    "item_separator = re.compile(',|，')\n",
    "kv_separator = re.compile(':|：')\n",
    "\n",
    "def get_vital_signs_dict(vital_signs_str):\n",
    "    attr_dict = {}\n",
    "    items = item_separator.split(vital_signs_str)\n",
    "    for item in items:\n",
    "        item = item.strip()\n",
    "        for word in unmeaning_word_list:\n",
    "            if (item.startswith(word)):\n",
    "                item = item[len(word): len(item)]\n",
    "                break\n",
    "        item = item.strip()\n",
    "        if (len(item) == 0 or item is None):\n",
    "            continue\n",
    "        key, value = kv_separator.split(item)\n",
    "        attr_dict[key] = value\n",
    "    return attr_dict"
   ]
  },
  {
   "cell_type": "code",
   "execution_count": 5,
   "metadata": {},
   "outputs": [],
   "source": [
    "results = []\n",
    "error_list = []\n",
    "for idx, vital_signs_str in df.生命体征.iteritems():\n",
    "    try:\n",
    "        item_dict = get_vital_signs_dict(vital_signs_str)\n",
    "    except:\n",
    "        item_dict = {}\n",
    "        error_list.append(idx)\n",
    "    results.append(item_dict)"
   ]
  },
  {
   "cell_type": "code",
   "execution_count": 6,
   "metadata": {},
   "outputs": [],
   "source": [
    "def get_body_temperature(item):\n",
    "    return float(item['体温'].replace('℃', ''))\n",
    "\n",
    "def get_pulse(item):\n",
    "    return int(item['脉搏'].replace('次/分', ''))\n",
    "\n",
    "def get_breathe_frequency(item):\n",
    "    return int(item['呼吸'].replace('次/分', ''))\n",
    "\n",
    "def get_blood_pressure(item):\n",
    "    tresult = sorted(list(map(int, item['血压'].replace('mmHg', \"\").split('/'))))\n",
    "    assert(len(tresult) == 2)\n",
    "    return tresult\n",
    "\n",
    "def fault_tolerant(fun, item):\n",
    "    try:\n",
    "        return fun(item)\n",
    "    except:\n",
    "        if (fun == get_blood_pressure):\n",
    "            return [np.nan, np.nan]\n",
    "        return np.nan\n",
    "\n",
    "vital_signs_list = ['体温', '脉搏', '呼吸', '高压', '低压']\n",
    "df = pd.concat([df, pd.DataFrame(columns=vital_signs_list)], sort=False)"
   ]
  },
  {
   "cell_type": "code",
   "execution_count": 7,
   "metadata": {},
   "outputs": [],
   "source": [
    "# 数据量大时，需要直接提取列加到df里\n",
    "for idx, item in enumerate(results):\n",
    "    if (item == {}):\n",
    "        continue\n",
    "    for vital_sign in vital_signs_list: \n",
    "        df.loc[idx]['体温'] =  fault_tolerant(get_body_temperature, item)\n",
    "        df.loc[idx]['脉搏'] =  fault_tolerant(get_pulse, item)\n",
    "        df.loc[idx]['呼吸'] =  fault_tolerant(get_breathe_frequency, item)\n",
    "        df.loc[idx]['低压'] =  fault_tolerant(get_blood_pressure, item)[0]\n",
    "        df.loc[idx]['高压'] =  fault_tolerant(get_blood_pressure, item)[1]"
   ]
  },
  {
   "cell_type": "code",
   "execution_count": 10,
   "metadata": {},
   "outputs": [],
   "source": [
    "df = df[['体温', '脉搏', '呼吸', '高压', '低压', '主诉', '家族史', '现病史', '入院初诊']]\n",
    "df = df.dropna()"
   ]
  },
  {
   "cell_type": "code",
   "execution_count": 14,
   "metadata": {},
   "outputs": [],
   "source": [
    "df.to_excel('../data/not_null.xlsx')"
   ]
  },
  {
   "cell_type": "code",
   "execution_count": null,
   "metadata": {},
   "outputs": [],
   "source": []
  },
  {
   "cell_type": "code",
   "execution_count": null,
   "metadata": {},
   "outputs": [],
   "source": []
  }
 ],
 "metadata": {
  "kernelspec": {
   "display_name": "Python 3",
   "language": "python",
   "name": "python3"
  },
  "language_info": {
   "codemirror_mode": {
    "name": "ipython",
    "version": 3
   },
   "file_extension": ".py",
   "mimetype": "text/x-python",
   "name": "python",
   "nbconvert_exporter": "python",
   "pygments_lexer": "ipython3",
   "version": "3.6.5"
  }
 },
 "nbformat": 4,
 "nbformat_minor": 2
}
